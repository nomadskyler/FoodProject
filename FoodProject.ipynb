{
 "cells": [
  {
   "cell_type": "markdown",
   "metadata": {},
   "source": [
    "## Mining most correlated nutrients"
   ]
  },
  {
   "cell_type": "markdown",
   "metadata": {},
   "source": [
    "# DEFINE"
   ]
  },
  {
   "cell_type": "markdown",
   "metadata": {},
   "source": [
    "#### ---Define the problem ---"
   ]
  },
  {
   "cell_type": "markdown",
   "metadata": {},
   "source": [
    "### The dataset is only to be used as a proving ground to show off what techniques one might use to clean, wrangle and visualize data. "
   ]
  },
  {
   "cell_type": "code",
   "execution_count": 231,
   "metadata": {},
   "outputs": [],
   "source": [
    "#import everything we might need\n",
    "import pandas as pd\n",
    "import sklearn as sk\n",
    "import seaborn as sns\n",
    "import matplotlib.pyplot as plt\n",
    "import numpy as np\n",
    "\n",
    "__author__ = \"Skyler Bullard\"\n",
    "__email__ = \"skylercarcom@gmail.com\""
   ]
  },
  {
   "cell_type": "markdown",
   "metadata": {},
   "source": [
    "### Load the data"
   ]
  },
  {
   "cell_type": "code",
   "execution_count": 232,
   "metadata": {},
   "outputs": [],
   "source": [
    "    \"\"\"\n",
    "    Inspiration drawn from the dataset found on Niharika Pandit's Kaggle page \n",
    "    under the \"Nutritional Facts for most common foods\" project.\n",
    "    \"\"\"\n",
    "\n",
    "data = pd.read_csv( 'nutrients_csvfile.csv' )"
   ]
  },
  {
   "cell_type": "markdown",
   "metadata": {},
   "source": [
    "### The letter 't' is found in a numerical feature."
   ]
  },
  {
   "cell_type": "code",
   "execution_count": 233,
   "metadata": {},
   "outputs": [
    {
     "data": {
      "text/html": [
       "<div>\n",
       "<style scoped>\n",
       "    .dataframe tbody tr th:only-of-type {\n",
       "        vertical-align: middle;\n",
       "    }\n",
       "\n",
       "    .dataframe tbody tr th {\n",
       "        vertical-align: top;\n",
       "    }\n",
       "\n",
       "    .dataframe thead th {\n",
       "        text-align: right;\n",
       "    }\n",
       "</style>\n",
       "<table border=\"1\" class=\"dataframe\">\n",
       "  <thead>\n",
       "    <tr style=\"text-align: right;\">\n",
       "      <th></th>\n",
       "      <th>Food</th>\n",
       "      <th>Measure</th>\n",
       "      <th>Grams</th>\n",
       "      <th>Calories</th>\n",
       "      <th>Protein</th>\n",
       "      <th>Fat</th>\n",
       "      <th>Sat.Fat</th>\n",
       "      <th>Fiber</th>\n",
       "      <th>Carbs</th>\n",
       "      <th>Category</th>\n",
       "    </tr>\n",
       "  </thead>\n",
       "  <tbody>\n",
       "    <tr>\n",
       "      <th>count</th>\n",
       "      <td>335</td>\n",
       "      <td>335</td>\n",
       "      <td>335</td>\n",
       "      <td>334</td>\n",
       "      <td>335</td>\n",
       "      <td>335</td>\n",
       "      <td>333</td>\n",
       "      <td>335</td>\n",
       "      <td>335</td>\n",
       "      <td>335</td>\n",
       "    </tr>\n",
       "    <tr>\n",
       "      <th>unique</th>\n",
       "      <td>329</td>\n",
       "      <td>61</td>\n",
       "      <td>103</td>\n",
       "      <td>152</td>\n",
       "      <td>40</td>\n",
       "      <td>45</td>\n",
       "      <td>38</td>\n",
       "      <td>57</td>\n",
       "      <td>80</td>\n",
       "      <td>16</td>\n",
       "    </tr>\n",
       "    <tr>\n",
       "      <th>top</th>\n",
       "      <td>Butter</td>\n",
       "      <td>1 cup</td>\n",
       "      <td>100</td>\n",
       "      <td>100</td>\n",
       "      <td>1</td>\n",
       "      <td>t</td>\n",
       "      <td>0</td>\n",
       "      <td>0</td>\n",
       "      <td>0</td>\n",
       "      <td>Breads, cereals, fastfood,grains</td>\n",
       "    </tr>\n",
       "    <tr>\n",
       "      <th>freq</th>\n",
       "      <td>3</td>\n",
       "      <td>120</td>\n",
       "      <td>38</td>\n",
       "      <td>14</td>\n",
       "      <td>53</td>\n",
       "      <td>115</td>\n",
       "      <td>174</td>\n",
       "      <td>116</td>\n",
       "      <td>45</td>\n",
       "      <td>45</td>\n",
       "    </tr>\n",
       "  </tbody>\n",
       "</table>\n",
       "</div>"
      ],
      "text/plain": [
       "          Food Measure Grams Calories Protein  Fat Sat.Fat Fiber Carbs  \\\n",
       "count      335     335   335      334     335  335     333   335   335   \n",
       "unique     329      61   103      152      40   45      38    57    80   \n",
       "top     Butter   1 cup   100      100       1    t       0     0     0   \n",
       "freq         3     120    38       14      53  115     174   116    45   \n",
       "\n",
       "                                Category  \n",
       "count                                335  \n",
       "unique                                16  \n",
       "top     Breads, cereals, fastfood,grains  \n",
       "freq                                  45  "
      ]
     },
     "execution_count": 233,
     "metadata": {},
     "output_type": "execute_result"
    }
   ],
   "source": [
    "data.describe()"
   ]
  },
  {
   "cell_type": "markdown",
   "metadata": {},
   "source": [
    "### Some features include null objects."
   ]
  },
  {
   "cell_type": "code",
   "execution_count": 234,
   "metadata": {
    "scrolled": false
   },
   "outputs": [
    {
     "name": "stdout",
     "output_type": "stream",
     "text": [
      "<class 'pandas.core.frame.DataFrame'>\n",
      "RangeIndex: 335 entries, 0 to 334\n",
      "Data columns (total 10 columns):\n",
      "Food        335 non-null object\n",
      "Measure     335 non-null object\n",
      "Grams       335 non-null object\n",
      "Calories    334 non-null object\n",
      "Protein     335 non-null object\n",
      "Fat         335 non-null object\n",
      "Sat.Fat     333 non-null object\n",
      "Fiber       335 non-null object\n",
      "Carbs       335 non-null object\n",
      "Category    335 non-null object\n",
      "dtypes: object(10)\n",
      "memory usage: 26.2+ KB\n"
     ]
    }
   ],
   "source": [
    "data.info()"
   ]
  },
  {
   "cell_type": "markdown",
   "metadata": {},
   "source": [
    "### Search for missing data and locate each index"
   ]
  },
  {
   "cell_type": "code",
   "execution_count": 235,
   "metadata": {},
   "outputs": [],
   "source": [
    "def missing_search( df , col ):\n",
    "        \n",
    "    count = 0\n",
    "        \n",
    "    index_dict = {}\n",
    "        \n",
    "    missing_series = df[ col ].isnull()\n",
    "        \n",
    "    for i in missing_series:\n",
    "            \n",
    "        if i == True:\n",
    "                \n",
    "            count += 1\n",
    "                \n",
    "            index_dict[ \" Count \" ] = count\n",
    "                \n",
    "            index_dict[ \" Index \" ] = missing_series[ missing_series == i ]\n",
    "                \n",
    "    return index_dict"
   ]
  },
  {
   "cell_type": "code",
   "execution_count": 236,
   "metadata": {
    "scrolled": true
   },
   "outputs": [],
   "source": [
    "def missing_rows( df ):\n",
    "        \n",
    "    headers = df.columns.tolist()\n",
    "        \n",
    "    for name in headers:\n",
    "            \n",
    "        print( missing_search( df , name ) )"
   ]
  },
  {
   "cell_type": "code",
   "execution_count": 237,
   "metadata": {
    "scrolled": false
   },
   "outputs": [
    {
     "name": "stdout",
     "output_type": "stream",
     "text": [
      "{}\n",
      "{}\n",
      "{}\n",
      "{' Count ': 1, ' Index ': 134    True\n",
      "Name: Calories, dtype: bool}\n",
      "{}\n",
      "{}\n",
      "{' Count ': 2, ' Index ': 42     True\n",
      "100    True\n",
      "Name: Sat.Fat, dtype: bool}\n",
      "{}\n",
      "{}\n",
      "{}\n"
     ]
    }
   ],
   "source": [
    "missing_rows( data )"
   ]
  },
  {
   "cell_type": "code",
   "execution_count": 238,
   "metadata": {
    "scrolled": true
   },
   "outputs": [
    {
     "name": "stdout",
     "output_type": "stream",
     "text": [
      "Food           Frozen peas\n",
      "Measure              1 cup\n",
      "Grams                  100\n",
      "Calories               NaN\n",
      "Protein                  5\n",
      "Fat                      t\n",
      "Sat.Fat                  0\n",
      "Fiber                  1.8\n",
      "Carbs                   12\n",
      "Category    Vegetables R-Z\n",
      "Name: 134, dtype: object\n"
     ]
    }
   ],
   "source": [
    "data_to_drop = data.iloc[ 134 ]\n",
    "    \n",
    "print( data_to_drop )"
   ]
  },
  {
   "cell_type": "code",
   "execution_count": 239,
   "metadata": {},
   "outputs": [
    {
     "name": "stdout",
     "output_type": "stream",
     "text": [
      "Food             Beetroots\n",
      "Measure              1 cup\n",
      "Grams                  165\n",
      "Calories                 1\n",
      "Protein                 12\n",
      "Fat                      0\n",
      "Sat.Fat                NaN\n",
      "Fiber                    t\n",
      "Carbs                 0.80\n",
      "Category    Vegetables A-E\n",
      "Name: 100, dtype: object\n"
     ]
    }
   ],
   "source": [
    "data_to_drop = data.iloc[ 100 ]\n",
    "    \n",
    "print( data_to_drop )"
   ]
  },
  {
   "cell_type": "code",
   "execution_count": 240,
   "metadata": {},
   "outputs": [
    {
     "name": "stdout",
     "output_type": "stream",
     "text": [
      "Food            Salt pork\n",
      "Measure             2 oz.\n",
      "Grams                  60\n",
      "Calories              470\n",
      "Protein                 3\n",
      "Fat                    55\n",
      "Sat.Fat               NaN\n",
      "Fiber                   0\n",
      "Carbs                   0\n",
      "Category    Meat, Poultry\n",
      "Name: 42, dtype: object\n"
     ]
    }
   ],
   "source": [
    "data_to_drop = data.iloc[ 42 ]\n",
    "    \n",
    "print( data_to_drop )"
   ]
  },
  {
   "cell_type": "code",
   "execution_count": 241,
   "metadata": {
    "scrolled": true
   },
   "outputs": [
    {
     "name": "stdout",
     "output_type": "stream",
     "text": [
      "<class 'pandas.core.frame.DataFrame'>\n",
      "RangeIndex: 335 entries, 0 to 334\n",
      "Data columns (total 10 columns):\n",
      "Food        335 non-null object\n",
      "Measure     335 non-null object\n",
      "Grams       335 non-null object\n",
      "Calories    334 non-null object\n",
      "Protein     335 non-null object\n",
      "Fat         335 non-null object\n",
      "Sat.Fat     333 non-null object\n",
      "Fiber       335 non-null object\n",
      "Carbs       335 non-null object\n",
      "Category    335 non-null object\n",
      "dtypes: object(10)\n",
      "memory usage: 26.2+ KB\n"
     ]
    }
   ],
   "source": [
    "data.info()"
   ]
  },
  {
   "cell_type": "code",
   "execution_count": 242,
   "metadata": {},
   "outputs": [],
   "source": [
    "def drop_rows( df , index_array ):\n",
    "    \n",
    "    for i in index_array:\n",
    "        \n",
    "        df.drop( df.index[ i ] , axis = 0  , inplace = True )"
   ]
  },
  {
   "cell_type": "code",
   "execution_count": 243,
   "metadata": {},
   "outputs": [],
   "source": [
    "ind_arr = [ 134 , 42 , 100 ]\n",
    "\n",
    "drop_rows( data , ind_arr )"
   ]
  },
  {
   "cell_type": "code",
   "execution_count": 244,
   "metadata": {},
   "outputs": [
    {
     "name": "stdout",
     "output_type": "stream",
     "text": [
      "Food        Peppers canned\n",
      "Measure              1 pod\n",
      "Grams                   38\n",
      "Calories                10\n",
      "Protein                  t\n",
      "Fat                      t\n",
      "Sat.Fat                  0\n",
      "Fiber                    t\n",
      "Carbs                    2\n",
      "Category    Vegetables R-Z\n",
      "Name: 137, dtype: object\n"
     ]
    }
   ],
   "source": [
    "data_to_drop = data.iloc[ 134 ]\n",
    "    \n",
    "print( data_to_drop )"
   ]
  },
  {
   "cell_type": "code",
   "execution_count": 245,
   "metadata": {},
   "outputs": [
    {
     "name": "stdout",
     "output_type": "stream",
     "text": [
      "Food        Brussels sprouts\n",
      "Measure                1 cup\n",
      "Grams                    130\n",
      "Calories                  60\n",
      "Protein                    6\n",
      "Fat                        t\n",
      "Sat.Fat                    0\n",
      "Fiber                    1.7\n",
      "Carbs                     12\n",
      "Category      Vegetables A-E\n",
      "Name: 102, dtype: object\n"
     ]
    }
   ],
   "source": [
    "data_to_drop = data.iloc[ 100 ]\n",
    "    \n",
    "print( data_to_drop )"
   ]
  },
  {
   "cell_type": "code",
   "execution_count": 246,
   "metadata": {},
   "outputs": [
    {
     "name": "stdout",
     "output_type": "stream",
     "text": [
      "Food                Bacon\n",
      "Measure          2 slices\n",
      "Grams                  16\n",
      "Calories               95\n",
      "Protein                 4\n",
      "Fat                     8\n",
      "Sat.Fat                 7\n",
      "Fiber                   0\n",
      "Carbs                   1\n",
      "Category    Meat, Poultry\n",
      "Name: 43, dtype: object\n"
     ]
    }
   ],
   "source": [
    "data_to_drop = data.iloc[ 42 ]\n",
    "    \n",
    "print( data_to_drop )"
   ]
  },
  {
   "cell_type": "code",
   "execution_count": 247,
   "metadata": {},
   "outputs": [
    {
     "name": "stdout",
     "output_type": "stream",
     "text": [
      "<class 'pandas.core.frame.DataFrame'>\n",
      "Int64Index: 332 entries, 0 to 334\n",
      "Data columns (total 10 columns):\n",
      "Food        332 non-null object\n",
      "Measure     332 non-null object\n",
      "Grams       332 non-null object\n",
      "Calories    332 non-null object\n",
      "Protein     332 non-null object\n",
      "Fat         332 non-null object\n",
      "Sat.Fat     331 non-null object\n",
      "Fiber       332 non-null object\n",
      "Carbs       332 non-null object\n",
      "Category    332 non-null object\n",
      "dtypes: object(10)\n",
      "memory usage: 28.5+ KB\n"
     ]
    }
   ],
   "source": [
    "data.info()"
   ]
  }
 ],
 "metadata": {
  "kernelspec": {
   "display_name": "Python 3",
   "language": "python",
   "name": "python3"
  },
  "language_info": {
   "codemirror_mode": {
    "name": "ipython",
    "version": 3
   },
   "file_extension": ".py",
   "mimetype": "text/x-python",
   "name": "python",
   "nbconvert_exporter": "python",
   "pygments_lexer": "ipython3",
   "version": "3.6.5"
  }
 },
 "nbformat": 4,
 "nbformat_minor": 2
}
