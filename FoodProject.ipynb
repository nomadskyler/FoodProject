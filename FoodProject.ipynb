{
 "cells": [
  {
   "cell_type": "markdown",
   "metadata": {},
   "source": [
    "## Mining most correlated nutrients"
   ]
  },
  {
   "cell_type": "markdown",
   "metadata": {},
   "source": [
    "# DEFINE"
   ]
  },
  {
   "cell_type": "markdown",
   "metadata": {},
   "source": [
    "#### ---Define the problem ---"
   ]
  },
  {
   "cell_type": "markdown",
   "metadata": {},
   "source": [
    "### The dataset is only to be used as a proving ground to show off what techniques one might use to clean, wrangle and visualize data. "
   ]
  },
  {
   "cell_type": "code",
   "execution_count": 1,
   "metadata": {},
   "outputs": [],
   "source": [
    "#import everything we might need\n",
    "import pandas as pd\n",
    "import sklearn as sk\n",
    "import seaborn as sns\n",
    "import matplotlib.pyplot as plt\n",
    "import numpy as np\n",
    "\n",
    "__author__ = \"Skyler Bullard\"\n",
    "__email__ = \"skylercarcom@gmail.com\""
   ]
  },
  {
   "cell_type": "markdown",
   "metadata": {},
   "source": [
    "### Load the data"
   ]
  },
  {
   "cell_type": "code",
   "execution_count": 2,
   "metadata": {},
   "outputs": [],
   "source": [
    "    \"\"\"\n",
    "    Inspiration drawn from the dataset found on Niharika Pandit's Kaggle page \n",
    "    under the \"Nutritional Facts for most common foods\" project.\n",
    "    \"\"\"\n",
    "\n",
    "data = pd.read_csv( 'nutrients_csvfile.csv' )"
   ]
  },
  {
   "cell_type": "markdown",
   "metadata": {},
   "source": [
    "### The letter 't' is found in a numerical feature."
   ]
  },
  {
   "cell_type": "code",
   "execution_count": 3,
   "metadata": {},
   "outputs": [
    {
     "data": {
      "text/html": [
       "<div>\n",
       "<style scoped>\n",
       "    .dataframe tbody tr th:only-of-type {\n",
       "        vertical-align: middle;\n",
       "    }\n",
       "\n",
       "    .dataframe tbody tr th {\n",
       "        vertical-align: top;\n",
       "    }\n",
       "\n",
       "    .dataframe thead th {\n",
       "        text-align: right;\n",
       "    }\n",
       "</style>\n",
       "<table border=\"1\" class=\"dataframe\">\n",
       "  <thead>\n",
       "    <tr style=\"text-align: right;\">\n",
       "      <th></th>\n",
       "      <th>Food</th>\n",
       "      <th>Measure</th>\n",
       "      <th>Grams</th>\n",
       "      <th>Calories</th>\n",
       "      <th>Protein</th>\n",
       "      <th>Fat</th>\n",
       "      <th>Sat.Fat</th>\n",
       "      <th>Fiber</th>\n",
       "      <th>Carbs</th>\n",
       "      <th>Category</th>\n",
       "    </tr>\n",
       "  </thead>\n",
       "  <tbody>\n",
       "    <tr>\n",
       "      <th>count</th>\n",
       "      <td>335</td>\n",
       "      <td>335</td>\n",
       "      <td>335</td>\n",
       "      <td>334</td>\n",
       "      <td>335</td>\n",
       "      <td>335</td>\n",
       "      <td>333</td>\n",
       "      <td>335</td>\n",
       "      <td>335</td>\n",
       "      <td>335</td>\n",
       "    </tr>\n",
       "    <tr>\n",
       "      <th>unique</th>\n",
       "      <td>329</td>\n",
       "      <td>61</td>\n",
       "      <td>103</td>\n",
       "      <td>152</td>\n",
       "      <td>40</td>\n",
       "      <td>45</td>\n",
       "      <td>38</td>\n",
       "      <td>57</td>\n",
       "      <td>80</td>\n",
       "      <td>16</td>\n",
       "    </tr>\n",
       "    <tr>\n",
       "      <th>top</th>\n",
       "      <td>Butter</td>\n",
       "      <td>1 cup</td>\n",
       "      <td>100</td>\n",
       "      <td>100</td>\n",
       "      <td>1</td>\n",
       "      <td>t</td>\n",
       "      <td>0</td>\n",
       "      <td>0</td>\n",
       "      <td>0</td>\n",
       "      <td>Breads, cereals, fastfood,grains</td>\n",
       "    </tr>\n",
       "    <tr>\n",
       "      <th>freq</th>\n",
       "      <td>3</td>\n",
       "      <td>120</td>\n",
       "      <td>38</td>\n",
       "      <td>14</td>\n",
       "      <td>53</td>\n",
       "      <td>115</td>\n",
       "      <td>174</td>\n",
       "      <td>116</td>\n",
       "      <td>45</td>\n",
       "      <td>45</td>\n",
       "    </tr>\n",
       "  </tbody>\n",
       "</table>\n",
       "</div>"
      ],
      "text/plain": [
       "          Food Measure Grams Calories Protein  Fat Sat.Fat Fiber Carbs  \\\n",
       "count      335     335   335      334     335  335     333   335   335   \n",
       "unique     329      61   103      152      40   45      38    57    80   \n",
       "top     Butter   1 cup   100      100       1    t       0     0     0   \n",
       "freq         3     120    38       14      53  115     174   116    45   \n",
       "\n",
       "                                Category  \n",
       "count                                335  \n",
       "unique                                16  \n",
       "top     Breads, cereals, fastfood,grains  \n",
       "freq                                  45  "
      ]
     },
     "execution_count": 3,
     "metadata": {},
     "output_type": "execute_result"
    }
   ],
   "source": [
    "data.describe()"
   ]
  },
  {
   "cell_type": "markdown",
   "metadata": {},
   "source": [
    "### Some features include null objects."
   ]
  },
  {
   "cell_type": "code",
   "execution_count": 4,
   "metadata": {
    "scrolled": false
   },
   "outputs": [
    {
     "name": "stdout",
     "output_type": "stream",
     "text": [
      "<class 'pandas.core.frame.DataFrame'>\n",
      "RangeIndex: 335 entries, 0 to 334\n",
      "Data columns (total 10 columns):\n",
      "Food        335 non-null object\n",
      "Measure     335 non-null object\n",
      "Grams       335 non-null object\n",
      "Calories    334 non-null object\n",
      "Protein     335 non-null object\n",
      "Fat         335 non-null object\n",
      "Sat.Fat     333 non-null object\n",
      "Fiber       335 non-null object\n",
      "Carbs       335 non-null object\n",
      "Category    335 non-null object\n",
      "dtypes: object(10)\n",
      "memory usage: 26.2+ KB\n"
     ]
    }
   ],
   "source": [
    "data.info()"
   ]
  },
  {
   "cell_type": "markdown",
   "metadata": {},
   "source": [
    "### Search for missing data and locate each index"
   ]
  },
  {
   "cell_type": "code",
   "execution_count": 25,
   "metadata": {},
   "outputs": [],
   "source": [
    "class ReplaceMissing:\n",
    "    \n",
    "    def __init__( self , df ):\n",
    "        \n",
    "        self.df = df\n",
    "        \n",
    "    def missing_search( df , col ):\n",
    "        \n",
    "        count = 0\n",
    "        \n",
    "        found_na = {}\n",
    "        \n",
    "        missing_series = df[ col ].isnull()\n",
    "        \n",
    "        for i in missing_series:\n",
    "            \n",
    "            if i == True:\n",
    "                \n",
    "                count += 1\n",
    "                \n",
    "                found_na[ \" Count \" ] = count\n",
    "                \n",
    "                found_na[ \" Index \" ] = missing_series[ missing_series == i ]\n",
    "                \n",
    "        return found_na\n",
    "    \n",
    "    def found_dict( df ):\n",
    "        \n",
    "        headers = df.columns.tolist()\n",
    "        \n",
    "        for name in headers:\n",
    "            \n",
    "            print( missing_search( df , name ) )"
   ]
  },
  {
   "cell_type": "code",
   "execution_count": 26,
   "metadata": {},
   "outputs": [
    {
     "ename": "AttributeError",
     "evalue": "'ReplaceMissing' object has no attribute 'columns'",
     "output_type": "error",
     "traceback": [
      "\u001b[1;31m---------------------------------------------------------------------------\u001b[0m",
      "\u001b[1;31mAttributeError\u001b[0m                            Traceback (most recent call last)",
      "\u001b[1;32m<ipython-input-26-423666b02b93>\u001b[0m in \u001b[0;36m<module>\u001b[1;34m()\u001b[0m\n\u001b[0;32m      3\u001b[0m \u001b[1;33m\u001b[0m\u001b[0m\n\u001b[0;32m      4\u001b[0m \u001b[1;31m#print dictionary of missing values\u001b[0m\u001b[1;33m\u001b[0m\u001b[1;33m\u001b[0m\u001b[0m\n\u001b[1;32m----> 5\u001b[1;33m \u001b[0mx\u001b[0m\u001b[1;33m.\u001b[0m\u001b[0mfound_dict\u001b[0m\u001b[1;33m(\u001b[0m\u001b[1;33m)\u001b[0m\u001b[1;33m\u001b[0m\u001b[0m\n\u001b[0m",
      "\u001b[1;32m<ipython-input-25-8af43294e446>\u001b[0m in \u001b[0;36mfound_dict\u001b[1;34m(df)\u001b[0m\n\u001b[0;32m     27\u001b[0m     \u001b[1;32mdef\u001b[0m \u001b[0mfound_dict\u001b[0m\u001b[1;33m(\u001b[0m \u001b[0mdf\u001b[0m \u001b[1;33m)\u001b[0m\u001b[1;33m:\u001b[0m\u001b[1;33m\u001b[0m\u001b[0m\n\u001b[0;32m     28\u001b[0m \u001b[1;33m\u001b[0m\u001b[0m\n\u001b[1;32m---> 29\u001b[1;33m         \u001b[0mheaders\u001b[0m \u001b[1;33m=\u001b[0m \u001b[0mdf\u001b[0m\u001b[1;33m.\u001b[0m\u001b[0mcolumns\u001b[0m\u001b[1;33m.\u001b[0m\u001b[0mtolist\u001b[0m\u001b[1;33m(\u001b[0m\u001b[1;33m)\u001b[0m\u001b[1;33m\u001b[0m\u001b[0m\n\u001b[0m\u001b[0;32m     30\u001b[0m \u001b[1;33m\u001b[0m\u001b[0m\n\u001b[0;32m     31\u001b[0m         \u001b[1;32mfor\u001b[0m \u001b[0mname\u001b[0m \u001b[1;32min\u001b[0m \u001b[0mheaders\u001b[0m\u001b[1;33m:\u001b[0m\u001b[1;33m\u001b[0m\u001b[0m\n",
      "\u001b[1;31mAttributeError\u001b[0m: 'ReplaceMissing' object has no attribute 'columns'"
     ]
    }
   ],
   "source": [
    "#instantiate class with data\n",
    "x = ReplaceMissing( data )\n",
    "\n",
    "#print dictionary of missing values\n",
    "x.found_dict()"
   ]
  },
  {
   "cell_type": "code",
   "execution_count": null,
   "metadata": {},
   "outputs": [],
   "source": []
  }
 ],
 "metadata": {
  "kernelspec": {
   "display_name": "Python 3",
   "language": "python",
   "name": "python3"
  },
  "language_info": {
   "codemirror_mode": {
    "name": "ipython",
    "version": 3
   },
   "file_extension": ".py",
   "mimetype": "text/x-python",
   "name": "python",
   "nbconvert_exporter": "python",
   "pygments_lexer": "ipython3",
   "version": "3.6.5"
  }
 },
 "nbformat": 4,
 "nbformat_minor": 2
}
