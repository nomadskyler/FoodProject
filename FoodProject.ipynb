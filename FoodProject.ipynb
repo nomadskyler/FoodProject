{
 "cells": [
  {
   "cell_type": "markdown",
   "metadata": {},
   "source": [
    "## Mining most correlated nutrients"
   ]
  },
  {
   "cell_type": "markdown",
   "metadata": {},
   "source": [
    "# DEFINE"
   ]
  },
  {
   "cell_type": "markdown",
   "metadata": {},
   "source": [
    "#### ---Define the problem ---"
   ]
  },
  {
   "cell_type": "markdown",
   "metadata": {},
   "source": [
    "### The dataset is only to be used as a proving ground to show off what techniques one might use to clean, wrangle and visualize data. "
   ]
  },
  {
   "cell_type": "code",
   "execution_count": 59,
   "metadata": {},
   "outputs": [],
   "source": [
    "#import everything we might need\n",
    "import pandas as pd\n",
    "import sklearn as sk\n",
    "import seaborn as sns\n",
    "import matplotlib.pyplot as plt\n",
    "import numpy as np\n",
    "\n",
    "__author__ = \"Skyler Bullard\"\n",
    "__email__ = \"skylercarcom@gmail.com\""
   ]
  },
  {
   "cell_type": "markdown",
   "metadata": {},
   "source": [
    "### Load the data"
   ]
  },
  {
   "cell_type": "code",
   "execution_count": 60,
   "metadata": {},
   "outputs": [],
   "source": [
    "\"\"\"\n",
    "    Inspiration drawn from the dataset found on Niharika Pandit's Kaggle page \n",
    "    under the \"Nutritional Facts for most common foods\" project.\n",
    "\"\"\"\n",
    "\n",
    "data = pd.read_csv( 'nutrients_csvfile.csv' )"
   ]
  },
  {
   "cell_type": "markdown",
   "metadata": {},
   "source": [
    "### The letter 't' is found in a numerical feature."
   ]
  },
  {
   "cell_type": "code",
   "execution_count": 61,
   "metadata": {},
   "outputs": [
    {
     "data": {
      "text/html": [
       "<div>\n",
       "<style scoped>\n",
       "    .dataframe tbody tr th:only-of-type {\n",
       "        vertical-align: middle;\n",
       "    }\n",
       "\n",
       "    .dataframe tbody tr th {\n",
       "        vertical-align: top;\n",
       "    }\n",
       "\n",
       "    .dataframe thead th {\n",
       "        text-align: right;\n",
       "    }\n",
       "</style>\n",
       "<table border=\"1\" class=\"dataframe\">\n",
       "  <thead>\n",
       "    <tr style=\"text-align: right;\">\n",
       "      <th></th>\n",
       "      <th>Food</th>\n",
       "      <th>Measure</th>\n",
       "      <th>Grams</th>\n",
       "      <th>Calories</th>\n",
       "      <th>Protein</th>\n",
       "      <th>Fat</th>\n",
       "      <th>Sat.Fat</th>\n",
       "      <th>Fiber</th>\n",
       "      <th>Carbs</th>\n",
       "      <th>Category</th>\n",
       "    </tr>\n",
       "  </thead>\n",
       "  <tbody>\n",
       "    <tr>\n",
       "      <th>count</th>\n",
       "      <td>335</td>\n",
       "      <td>335</td>\n",
       "      <td>335</td>\n",
       "      <td>334</td>\n",
       "      <td>335</td>\n",
       "      <td>335</td>\n",
       "      <td>333</td>\n",
       "      <td>335</td>\n",
       "      <td>335</td>\n",
       "      <td>335</td>\n",
       "    </tr>\n",
       "    <tr>\n",
       "      <th>unique</th>\n",
       "      <td>329</td>\n",
       "      <td>61</td>\n",
       "      <td>103</td>\n",
       "      <td>152</td>\n",
       "      <td>40</td>\n",
       "      <td>45</td>\n",
       "      <td>38</td>\n",
       "      <td>57</td>\n",
       "      <td>80</td>\n",
       "      <td>16</td>\n",
       "    </tr>\n",
       "    <tr>\n",
       "      <th>top</th>\n",
       "      <td>Butter</td>\n",
       "      <td>1 cup</td>\n",
       "      <td>100</td>\n",
       "      <td>100</td>\n",
       "      <td>1</td>\n",
       "      <td>t</td>\n",
       "      <td>0</td>\n",
       "      <td>0</td>\n",
       "      <td>0</td>\n",
       "      <td>Breads, cereals, fastfood,grains</td>\n",
       "    </tr>\n",
       "    <tr>\n",
       "      <th>freq</th>\n",
       "      <td>3</td>\n",
       "      <td>120</td>\n",
       "      <td>38</td>\n",
       "      <td>14</td>\n",
       "      <td>53</td>\n",
       "      <td>115</td>\n",
       "      <td>174</td>\n",
       "      <td>116</td>\n",
       "      <td>45</td>\n",
       "      <td>45</td>\n",
       "    </tr>\n",
       "  </tbody>\n",
       "</table>\n",
       "</div>"
      ],
      "text/plain": [
       "          Food Measure Grams Calories Protein  Fat Sat.Fat Fiber Carbs  \\\n",
       "count      335     335   335      334     335  335     333   335   335   \n",
       "unique     329      61   103      152      40   45      38    57    80   \n",
       "top     Butter   1 cup   100      100       1    t       0     0     0   \n",
       "freq         3     120    38       14      53  115     174   116    45   \n",
       "\n",
       "                                Category  \n",
       "count                                335  \n",
       "unique                                16  \n",
       "top     Breads, cereals, fastfood,grains  \n",
       "freq                                  45  "
      ]
     },
     "execution_count": 61,
     "metadata": {},
     "output_type": "execute_result"
    }
   ],
   "source": [
    "data.describe()"
   ]
  },
  {
   "cell_type": "markdown",
   "metadata": {},
   "source": [
    "### Some features include null objects."
   ]
  },
  {
   "cell_type": "code",
   "execution_count": 62,
   "metadata": {
    "scrolled": false
   },
   "outputs": [
    {
     "name": "stdout",
     "output_type": "stream",
     "text": [
      "<class 'pandas.core.frame.DataFrame'>\n",
      "RangeIndex: 335 entries, 0 to 334\n",
      "Data columns (total 10 columns):\n",
      "Food        335 non-null object\n",
      "Measure     335 non-null object\n",
      "Grams       335 non-null object\n",
      "Calories    334 non-null object\n",
      "Protein     335 non-null object\n",
      "Fat         335 non-null object\n",
      "Sat.Fat     333 non-null object\n",
      "Fiber       335 non-null object\n",
      "Carbs       335 non-null object\n",
      "Category    335 non-null object\n",
      "dtypes: object(10)\n",
      "memory usage: 26.2+ KB\n"
     ]
    }
   ],
   "source": [
    "data.info()"
   ]
  },
  {
   "cell_type": "markdown",
   "metadata": {},
   "source": [
    "### Search for missing data and locate each index"
   ]
  },
  {
   "cell_type": "code",
   "execution_count": 63,
   "metadata": {},
   "outputs": [],
   "source": [
    "\"\"\"\n",
    "    This class will provide many functions to search, replace, or drop tuples\n",
    "    in a desired dataframe.\n",
    "    \n",
    "    @param:\n",
    "    @return: dictionary of missing values with indeces\n",
    "\"\"\"\n",
    "\n",
    "class ReplaceMissing:\n",
    "    \n",
    "    \"\"\"\n",
    "    Initialize object for access to variables and create\n",
    "    arguments for provided flexibility\n",
    "    \"\"\"\n",
    "\n",
    "    def __init__( self , df ):\n",
    "        \n",
    "        #provide access to instatiated dataframe\n",
    "        self.df = df    \n",
    "        \n",
    "    \"\"\"\n",
    "    @param  dataframe, feature's header name\n",
    "    @return  dictionary of tuples including missing values and each index\n",
    "    \"\"\"\n",
    "\n",
    "    def missing_search( df , col ):\n",
    "    \n",
    "        #total count of missing values in feature\n",
    "        count = 0\n",
    "    \n",
    "        #dictionary of features\n",
    "        found_na = {}\n",
    "        \n",
    "        #boolean series\n",
    "        missing_series = df[ col ].isnull()\n",
    "    \n",
    "        #loop boolean series\n",
    "        for i in missing_series:\n",
    "        \n",
    "            #find missing values\n",
    "            if i == True:\n",
    "            \n",
    "                #count missing value in feature\n",
    "                count += 1\n",
    "            \n",
    "                #add count to dictionary\n",
    "                found_na[ \" Count \" ] = count\n",
    "            \n",
    "                #add index of missing value in boolean series to dictionary\n",
    "                found_na[ \" Index \" ] = missing_series[ missing_series == i ]\n",
    "\n",
    "        return found_na\n",
    "    \n",
    "    \"\"\"\n",
    "    @param dataframe\n",
    "    @return  dictionary of missing values with each index\n",
    "    \"\"\"\n",
    "    \n",
    "    def found_dict( df ):\n",
    "        \n",
    "        #create list of dataframe's feature name's\n",
    "        headers = data.columns.tolist()   \n",
    "    \n",
    "        #check each feature name\n",
    "        for name in headers:\n",
    "    \n",
    "            #return dictionary\n",
    "            print( missing_search( data , name ) )"
   ]
  },
  {
   "cell_type": "code",
   "execution_count": 64,
   "metadata": {},
   "outputs": [],
   "source": [
    "#instantiate class with data\n",
    "x = ReplaceMissing( data )"
   ]
  },
  {
   "cell_type": "code",
   "execution_count": 65,
   "metadata": {},
   "outputs": [
    {
     "name": "stdout",
     "output_type": "stream",
     "text": [
      "{}\n",
      "{}\n",
      "{}\n",
      "{' Count ': 1, ' Index ': 134    True\n",
      "Name: Calories, dtype: bool}\n",
      "{}\n",
      "{}\n",
      "{' Count ': 2, ' Index ': 42     True\n",
      "100    True\n",
      "Name: Sat.Fat, dtype: bool}\n",
      "{}\n",
      "{}\n",
      "{}\n"
     ]
    }
   ],
   "source": [
    "#print dictionary of missing values\n",
    "x.found_dict()"
   ]
  },
  {
   "cell_type": "code",
   "execution_count": null,
   "metadata": {},
   "outputs": [],
   "source": []
  }
 ],
 "metadata": {
  "kernelspec": {
   "display_name": "Python 3",
   "language": "python",
   "name": "python3"
  },
  "language_info": {
   "codemirror_mode": {
    "name": "ipython",
    "version": 3
   },
   "file_extension": ".py",
   "mimetype": "text/x-python",
   "name": "python",
   "nbconvert_exporter": "python",
   "pygments_lexer": "ipython3",
   "version": "3.6.5"
  }
 },
 "nbformat": 4,
 "nbformat_minor": 2
}
